{
  "nbformat": 4,
  "nbformat_minor": 0,
  "metadata": {
    "colab": {
      "provenance": [],
      "authorship_tag": "ABX9TyMDJopPNhn+1izmSp66UX+N",
      "include_colab_link": true
    },
    "kernelspec": {
      "name": "python3",
      "display_name": "Python 3"
    },
    "language_info": {
      "name": "python"
    }
  },
  "cells": [
    {
      "cell_type": "markdown",
      "metadata": {
        "id": "view-in-github",
        "colab_type": "text"
      },
      "source": [
        "<a href=\"https://colab.research.google.com/github/ankit485803/My-LocalRepo/blob/main/CS104_IITP.ipynb\" target=\"_parent\"><img src=\"https://colab.research.google.com/assets/colab-badge.svg\" alt=\"Open In Colab\"/></a>"
      ]
    },
    {
      "cell_type": "markdown",
      "source": [
        "## Assig: 01"
      ],
      "metadata": {
        "id": "4Pd-VY0UO2U0"
      }
    },
    {
      "cell_type": "markdown",
      "source": [
        "Q1. Do the following steps:\n",
        "1. Create an unsorted list of 20 integers.\n"
      ],
      "metadata": {
        "id": "hVBGxmRGPEpk"
      }
    },
    {
      "cell_type": "code",
      "execution_count": null,
      "metadata": {
        "colab": {
          "base_uri": "https://localhost:8080/"
        },
        "id": "eMSweyXTOZFM",
        "outputId": "51f80a34-a64b-41eb-9fce-193b20870dae"
      },
      "outputs": [
        {
          "output_type": "stream",
          "name": "stdout",
          "text": [
            "Unsorted list of 20 integers: [30, 65, 78, 4, 72, 26, 92, 84, 90, 70, 54, 29, 58, 76, 36, 1, 98, 21, 90, 55]\n"
          ]
        }
      ],
      "source": [
        "# Qno 1 ans: Create an unsorted list of 20 integers\n",
        "\n",
        "import random\n",
        "\n",
        "\n",
        "random_integers = [random.randint(1, 100) for _ in range(20)]\n",
        "\n",
        "print(\"Unsorted list of 20 integers:\", random_integers)\n"
      ]
    },
    {
      "cell_type": "markdown",
      "source": [
        "Q2.\n",
        "Sort the list in ascending and descending order using the following algorithms:\n",
        "a. Selection Sort\n",
        "\n"
      ],
      "metadata": {
        "id": "KNQd0nRKTwYa"
      }
    },
    {
      "cell_type": "code",
      "source": [
        "# Q2.  (a) Selection Sort\n",
        "\n",
        "def selection_sort_asc(arr):\n",
        "    n = len(arr)\n",
        "    for i in range(n):\n",
        "        min_idx = i\n",
        "        for j in range(i+1, n):\n",
        "            if arr[j] < arr[min_idx]:\n",
        "                min_idx = j\n",
        "        arr[i], arr[min_idx] = arr[min_idx], arr[i]\n",
        "    return arr\n",
        "\n",
        "def selection_sort_desc(arr):\n",
        "    n = len(arr)\n",
        "    for i in range(n):\n",
        "        max_idx = i\n",
        "        for j in range(i+1, n):\n",
        "            if arr[j] > arr[max_idx]:\n",
        "                max_idx = j\n",
        "        arr[i], arr[max_idx] = arr[max_idx], arr[i]\n",
        "    return arr\n",
        "\n",
        "\n",
        "print(\"Original list:\", random_integers)\n",
        "\n",
        "# Sort in ascending order\n",
        "sorted_asc = selection_sort_asc(random_integers.copy())\n",
        "print(\"Ascending order:\", sorted_asc)\n",
        "\n",
        "# Sort in descending order\n",
        "sorted_desc = selection_sort_desc(random_integers.copy())\n",
        "print(\"Descending order:\", sorted_desc)\n"
      ],
      "metadata": {
        "colab": {
          "base_uri": "https://localhost:8080/"
        },
        "id": "pZQ9G7ipSwii",
        "outputId": "36f423de-f808-4050-da64-6b101910e99c"
      },
      "execution_count": null,
      "outputs": [
        {
          "output_type": "stream",
          "name": "stdout",
          "text": [
            "Original list: [64, 25, 12, 22, 11, 90, 36, 8, 1, 63]\n",
            "Ascending order: [1, 8, 11, 12, 22, 25, 36, 63, 64, 90]\n",
            "Descending order: [90, 64, 63, 36, 25, 22, 12, 11, 8, 1]\n"
          ]
        }
      ]
    },
    {
      "cell_type": "markdown",
      "source": [
        "Q2.\n",
        "Sort the list in ascending and descending order using the following algorithms:\n",
        "b. Quick Sort\n",
        "\n"
      ],
      "metadata": {
        "id": "fwn8fM5sT3Wb"
      }
    },
    {
      "cell_type": "code",
      "source": [
        "# Q2.  (b) Quick Sort\n",
        "\n",
        "def quick_sort_asc(arr):\n",
        "    if len(arr) <= 1:\n",
        "        return arr\n",
        "    pivot = arr[len(arr) // 2]\n",
        "    left = [x for x in arr if x < pivot]\n",
        "    middle = [x for x in arr if x == pivot]\n",
        "    right = [x for x in arr if x > pivot]\n",
        "    return quick_sort_asc(left) + middle + quick_sort_asc(right)\n",
        "\n",
        "def quick_sort_desc(arr):\n",
        "    if len(arr) <= 1:\n",
        "        return arr\n",
        "    pivot = arr[len(arr) // 2]\n",
        "    left = [x for x in arr if x > pivot]\n",
        "    middle = [x for x in arr if x == pivot]\n",
        "    right = [x for x in arr if x < pivot]\n",
        "    return quick_sort_desc(left) + middle + quick_sort_desc(right)\n",
        "\n",
        "\n",
        "print(\"Original list:\", random_integers)\n",
        "\n",
        "# Sort in ascending order using quick sort\n",
        "sorted_asc = quick_sort_asc(random_integers.copy())\n",
        "print(\"Ascending order:\", sorted_asc)\n",
        "\n",
        "# Sort in descending order using quick sort\n",
        "sorted_desc = quick_sort_desc(random_integers.copy())\n",
        "print(\"Descending order:\", sorted_desc)\n"
      ],
      "metadata": {
        "colab": {
          "base_uri": "https://localhost:8080/"
        },
        "id": "Xw0cy64uT6ei",
        "outputId": "480d288e-dbb4-424c-af14-624818353808"
      },
      "execution_count": null,
      "outputs": [
        {
          "output_type": "stream",
          "name": "stdout",
          "text": [
            "Original list: [64, 25, 12, 22, 11, 90, 36, 8, 1, 63]\n",
            "Ascending order: [1, 8, 11, 12, 22, 25, 36, 63, 64, 90]\n",
            "Descending order: [90, 64, 63, 36, 25, 22, 12, 11, 8, 1]\n"
          ]
        }
      ]
    },
    {
      "cell_type": "code",
      "source": [
        "# Q2.  (c) Bubble Sort\n",
        "\n",
        "def bubble_sort_asc(arr):\n",
        "    n = len(arr)\n",
        "    for i in range(n):\n",
        "        for j in range(0, n-i-1):\n",
        "            if arr[j] > arr[j+1]:\n",
        "                arr[j], arr[j+1] = arr[j+1], arr[j]\n",
        "    return arr\n",
        "\n",
        "def bubble_sort_desc(arr):\n",
        "    n = len(arr)\n",
        "    for i in range(n):\n",
        "        for j in range(0, n-i-1):\n",
        "            if arr[j] < arr[j+1]:\n",
        "                arr[j], arr[j+1] = arr[j+1], arr[j]\n",
        "    return arr\n",
        "\n",
        "print(\"Original list:\", random_integers)\n",
        "\n",
        "# Sort in ascending order using bubble sort\n",
        "sorted_asc = bubble_sort_asc(random_integers.copy())\n",
        "print(\"Ascending order:\", sorted_asc)\n",
        "\n",
        "# Sort in descending order using bubble sort\n",
        "sorted_desc = bubble_sort_desc(random_integers.copy())\n",
        "print(\"Descending order:\", sorted_desc)\n"
      ],
      "metadata": {
        "colab": {
          "base_uri": "https://localhost:8080/"
        },
        "id": "WdsYr8EVXm97",
        "outputId": "d5205819-aa47-44d7-9fa2-1020ab9e0d3a"
      },
      "execution_count": null,
      "outputs": [
        {
          "output_type": "stream",
          "name": "stdout",
          "text": [
            "Original list: [64, 25, 12, 22, 11, 90, 36, 8, 1, 63]\n",
            "Ascending order: [1, 8, 11, 12, 22, 25, 36, 63, 64, 90]\n",
            "Descending order: [90, 64, 63, 36, 25, 22, 12, 11, 8, 1]\n"
          ]
        }
      ]
    },
    {
      "cell_type": "code",
      "source": [
        "# Q2.  (d) Inseration Sort\n",
        "\n",
        "def insertion_sort_asc(arr):\n",
        "    for i in range(1, len(arr)):\n",
        "        key = arr[i]\n",
        "        j = i - 1\n",
        "        while j >= 0 and key < arr[j]:\n",
        "            arr[j + 1] = arr[j]\n",
        "            j -= 1\n",
        "        arr[j + 1] = key\n",
        "    return arr\n",
        "\n",
        "def insertion_sort_desc(arr):\n",
        "    for i in range(1, len(arr)):\n",
        "        key = arr[i]\n",
        "        j = i - 1\n",
        "        while j >= 0 and key > arr[j]:\n",
        "            arr[j + 1] = arr[j]\n",
        "            j -= 1\n",
        "        arr[j + 1] = key\n",
        "    return arr\n",
        "\n",
        "\n",
        "print(\"Original list:\", random_integers)\n",
        "\n",
        "# Sort in ascending order using insertion sort\n",
        "sorted_asc = insertion_sort_asc(random_integers.copy())\n",
        "print(\"Ascending order:\", sorted_asc)\n",
        "\n",
        "# Sort in descending order using insertion sort\n",
        "sorted_desc = insertion_sort_desc(random_integers.copy())\n",
        "print(\"Descending order:\", sorted_desc)\n"
      ],
      "metadata": {
        "colab": {
          "base_uri": "https://localhost:8080/"
        },
        "id": "I8V1IXreYbcr",
        "outputId": "6fb36794-107a-4540-9e05-4d68ae7e9f86"
      },
      "execution_count": null,
      "outputs": [
        {
          "output_type": "stream",
          "name": "stdout",
          "text": [
            "Original list: [64, 25, 12, 22, 11, 90, 36, 8, 1, 63]\n",
            "Ascending order: [1, 8, 11, 12, 22, 25, 36, 63, 64, 90]\n",
            "Descending order: [90, 64, 63, 36, 25, 22, 12, 11, 8, 1]\n"
          ]
        }
      ]
    },
    {
      "cell_type": "code",
      "source": [
        "# Q2.  (e) Merge Sort\n",
        "\n",
        "def merge_sort_asc(arr):\n",
        "    if len(arr) > 1:\n",
        "        mid = len(arr) // 2\n",
        "        left_half = arr[:mid]\n",
        "        right_half = arr[mid:]\n",
        "\n",
        "        merge_sort_asc(left_half)\n",
        "        merge_sort_asc(right_half)\n",
        "\n",
        "        i = j = k = 0\n",
        "\n",
        "        while i < len(left_half) and j < len(right_half):\n",
        "            if left_half[i] < right_half[j]:\n",
        "                arr[k] = left_half[i]\n",
        "                i += 1\n",
        "            else:\n",
        "                arr[k] = right_half[j]\n",
        "                j += 1\n",
        "            k += 1\n",
        "\n",
        "        while i < len(left_half):\n",
        "            arr[k] = left_half[i]\n",
        "            i += 1\n",
        "            k += 1\n",
        "\n",
        "        while j < len(right_half):\n",
        "            arr[k] = right_half[j]\n",
        "            j += 1\n",
        "            k += 1\n",
        "\n",
        "def merge_sort_desc(arr):\n",
        "    if len(arr) > 1:\n",
        "        mid = len(arr) // 2\n",
        "        left_half = arr[:mid]\n",
        "        right_half = arr[mid:]\n",
        "\n",
        "        merge_sort_desc(left_half)\n",
        "        merge_sort_desc(right_half)\n",
        "\n",
        "        i = j = k = 0\n",
        "\n",
        "        while i < len(left_half) and j < len(right_half):\n",
        "            if left_half[i] > right_half[j]:\n",
        "                arr[k] = left_half[i]\n",
        "                i += 1\n",
        "            else:\n",
        "                arr[k] = right_half[j]\n",
        "                j += 1\n",
        "            k += 1\n",
        "\n",
        "        while i < len(left_half):\n",
        "            arr[k] = left_half[i]\n",
        "            i += 1\n",
        "            k += 1\n",
        "\n",
        "        while j < len(right_half):\n",
        "            arr[k] = right_half[j]\n",
        "            j += 1\n",
        "            k += 1\n",
        "\n",
        "\n",
        "print(\"Original list:\", random_integers)\n",
        "\n",
        "# Sort in ascending order using merge sort\n",
        "merge_sort_asc(random_integers)\n",
        "print(\"Ascending order:\", random_integers)\n",
        "\n",
        "# Sort in descending order using merge sort\n",
        "merge_sort_desc(random_integers)\n",
        "print(\"Descending order:\", random_integers)\n"
      ],
      "metadata": {
        "colab": {
          "base_uri": "https://localhost:8080/"
        },
        "id": "IY46_JU5ZIk5",
        "outputId": "ad858685-1fac-4c24-fa74-e08a71865e94"
      },
      "execution_count": null,
      "outputs": [
        {
          "output_type": "stream",
          "name": "stdout",
          "text": [
            "Original list: [64, 25, 12, 22, 11, 90, 36, 8, 1, 63]\n",
            "Ascending order: [1, 8, 11, 12, 22, 25, 36, 63, 64, 90]\n",
            "Descending order: [90, 64, 63, 36, 25, 22, 12, 11, 8, 1]\n"
          ]
        }
      ]
    },
    {
      "cell_type": "markdown",
      "source": [
        "Q3.  Count the number of comparisons made for any value from unsorted, ascending and\n",
        "descending lists in linear search algorithm."
      ],
      "metadata": {
        "id": "aa6jffCSZaKh"
      }
    },
    {
      "cell_type": "code",
      "source": [
        "def linear_search_comparisons(arr, target):\n",
        "    comparisons = 0\n",
        "    for value in arr:\n",
        "        comparisons += 1\n",
        "        if value == target:\n",
        "            return comparisons\n",
        "    return comparisons\n",
        "\n",
        "# eg\n",
        "unsorted_list = [64, 25, 12, 22, 11, 90, 36, 8, 1, 63]\n",
        "ascending_list = sorted(unsorted_list)\n",
        "descending_list = sorted(unsorted_list, reverse=True)\n",
        "\n",
        "target_value = 22\n",
        "\n",
        "# Perform linear search on unsorted list\n",
        "comparisons_unsorted = linear_search_comparisons(unsorted_list, target_value)\n",
        "print(\"Unsorted list:\")\n",
        "print(\"Number of comparisons:\", comparisons_unsorted)\n",
        "\n",
        "# Perform linear search on ascending sorted list\n",
        "comparisons_ascending = linear_search_comparisons(ascending_list, target_value)\n",
        "print(\"\\nAscending sorted list:\")\n",
        "print(\"Number of comparisons:\", comparisons_ascending)\n",
        "\n",
        "# Perform linear search on descending sorted list\n",
        "comparisons_descending = linear_search_comparisons(descending_list, target_value)\n",
        "print(\"\\nDescending sorted list:\")\n",
        "print(\"Number of comparisons:\", comparisons_descending)\n"
      ],
      "metadata": {
        "colab": {
          "base_uri": "https://localhost:8080/"
        },
        "id": "jBJ3LQA1Zcmp",
        "outputId": "47650036-5565-4cba-8a85-01b744095d31"
      },
      "execution_count": null,
      "outputs": [
        {
          "output_type": "stream",
          "name": "stdout",
          "text": [
            "Unsorted list:\n",
            "Number of comparisons: 4\n",
            "\n",
            "Ascending sorted list:\n",
            "Number of comparisons: 5\n",
            "\n",
            "Descending sorted list:\n",
            "Number of comparisons: 6\n"
          ]
        }
      ]
    },
    {
      "cell_type": "markdown",
      "source": [
        "Q4. Count the number of comparisons made for any value from unsorted, ascending and descending lists in Binary search algorithm."
      ],
      "metadata": {
        "id": "iMycSXyebj5S"
      }
    },
    {
      "cell_type": "code",
      "source": [
        "def binary_search_comparisons(arr, target):\n",
        "    comparisons = 0\n",
        "    left = 0\n",
        "    right = len(arr) - 1\n",
        "    while left <= right:\n",
        "        comparisons += 1\n",
        "        mid = (left + right) // 2\n",
        "        if arr[mid] == target:\n",
        "            return comparisons\n",
        "        elif arr[mid] < target:\n",
        "            left = mid + 1\n",
        "        else:\n",
        "            right = mid - 1\n",
        "    return comparisons\n",
        "\n",
        "# eg\n",
        "unsorted_list = [64, 25, 12, 22, 11, 90, 36, 8, 1, 63]\n",
        "ascending_list = sorted(unsorted_list)\n",
        "descending_list = sorted(unsorted_list, reverse=True)\n",
        "\n",
        "target_value = 22\n",
        "\n",
        "# Perform binary search on unsorted list\n",
        "comparisons_unsorted = binary_search_comparisons(sorted(unsorted_list), target_value)\n",
        "print(\"Unsorted list:\")\n",
        "print(\"Number of comparisons:\", comparisons_unsorted)\n",
        "\n",
        "# Perform binary search on ascending sorted list\n",
        "comparisons_ascending = binary_search_comparisons(ascending_list, target_value)\n",
        "print(\"\\nAscending sorted list:\")\n",
        "print(\"Number of comparisons:\", comparisons_ascending)\n",
        "\n",
        "# Perform binary search on descending sorted list\n",
        "comparisons_descending = binary_search_comparisons(descending_list, target_value)\n",
        "print(\"\\nDescending sorted list:\")\n",
        "print(\"Number of comparisons:\", comparisons_descending)\n"
      ],
      "metadata": {
        "colab": {
          "base_uri": "https://localhost:8080/"
        },
        "id": "9ztKmU76bjQL",
        "outputId": "688c0e1b-5da3-4b71-86c8-6dcd87858b7d"
      },
      "execution_count": null,
      "outputs": [
        {
          "output_type": "stream",
          "name": "stdout",
          "text": [
            "Unsorted list:\n",
            "Number of comparisons: 1\n",
            "\n",
            "Ascending sorted list:\n",
            "Number of comparisons: 1\n",
            "\n",
            "Descending sorted list:\n",
            "Number of comparisons: 3\n"
          ]
        }
      ]
    },
    {
      "cell_type": "code",
      "source": [],
      "metadata": {
        "id": "sVMMZG2p6NO5"
      },
      "execution_count": null,
      "outputs": []
    },
    {
      "cell_type": "markdown",
      "source": [
        "# Assig : 02"
      ],
      "metadata": {
        "id": "edcHzHkL6ZzI"
      }
    },
    {
      "cell_type": "code",
      "source": [
        "# we declared class named CAR and with attribute make, model number, year, mileage\n",
        "\n",
        "class car:\n",
        "  def __init__(self, make, model, year, mileage):\n",
        "    self.make = make\n",
        "    self.model = model\n",
        "    self.year = year\n",
        "    self.mileage = mileage\n",
        "\n",
        "\n",
        "# providing car dummy details just for an exaple\n",
        "carX = car(make = \"India\", model = \"xyz\", year = 2024, mileage = 2002)\n",
        "carY = car(make = \"USA\", model = \"abc\", year = 2023, mileage = 3003)\n",
        "carZ = car(make = \"China\", model = \"def\", year = 2022, mileage = 4004)\n",
        "\n",
        "# Accessing attribute to each cars\n",
        "print(f\" car X :  Countary : {carX.make},  Model No :  {carX.model}, Year of Manufacutued :  {carX.year}, Mileage : {carX.mileage} miles \")\n",
        "print(f\" car Y :  Countary : {carY.make},  Model No :  {carY.model}, Year of Manufacutued :  {carY.year}, Mileage :  {carY.mileage} miles  \")\n",
        "print(f\" car Z :  Countary : {carZ.make},  Model No :  {carZ.model}, Year of Manufacutued :  {carZ.year}, Mileage :  {carZ.mileage} miles  \")\n",
        "\n",
        "\n",
        "# changing values\n",
        "carX.mileage = 5505\n",
        "carY.year = 2017\n",
        "\n",
        "# Updated information\n",
        "print(f\" Updated car X mileage is : {carX.mileage}  miles\")\n",
        "print(f\" Updated car Y year of manufacuted in {carY.year} year\")\n"
      ],
      "metadata": {
        "colab": {
          "base_uri": "https://localhost:8080/"
        },
        "id": "vbOkZIK_6fh3",
        "outputId": "95b38b71-e133-418f-b094-beff4477eccc"
      },
      "execution_count": null,
      "outputs": [
        {
          "output_type": "stream",
          "name": "stdout",
          "text": [
            " car X :  Countary : India,  Model No :  xyz, Year of Manufacutued :  2024, Mileage : 2002 miles \n",
            " car Y :  Countary : USA,  Model No :  abc, Year of Manufacutued :  2023, Mileage :  3003 miles  \n",
            " car Z :  Countary : China,  Model No :  def, Year of Manufacutued :  2022, Mileage :  4004 miles  \n",
            " Updated car X mileage is : 5505  miles\n",
            " Updated car Y year of manufacuted in 2017 year\n"
          ]
        }
      ]
    },
    {
      "cell_type": "code",
      "source": [
        "import math"
      ],
      "metadata": {
        "id": "PnEGQDmNOGrQ"
      },
      "execution_count": null,
      "outputs": []
    },
    {
      "cell_type": "code",
      "source": [
        "# taking class named Shape, NotImplementError\n",
        "class Shape:\n",
        "  def area(self):\n",
        "    raise NotImplementedError\n",
        "\n",
        "  def perimeter(self):\n",
        "    raise NotImplementedError\n",
        "\n",
        "\n",
        "\n",
        "# shape_1st is RECTANGLE\n",
        "class Rectangle(Shape):\n",
        "  def __init__(self, length, width):\n",
        "    self.length = length\n",
        "    self.width = width\n",
        "\n",
        "  def area(self):\n",
        "    return  self.length * self.width\n",
        "\n",
        "  def perimeter(self):\n",
        "      return  2 * (self.length + self.width)\n",
        "\n",
        "\n",
        "\n",
        "# shape_2nd is CIRCLE\n",
        "class Circle(Shape):\n",
        "  def __init__(self, radius):\n",
        "    self.radius = radius\n",
        "\n",
        "  def area(self):\n",
        "    import math\n",
        "    return math.pi * self.radius **2\n",
        "\n",
        "  def perimeter(self):\n",
        "    import math\n",
        "    return  2 * math.pi  * self.radius\n",
        "\n",
        " # shape_3rd is TRIANGLE\n",
        "class Triangle(Shape):\n",
        "  def __init__(self, side1, side2, side3):\n",
        "    self.side1 = side1\n",
        "    self.side2 = side2\n",
        "    self.side3 = side3\n",
        "\n",
        "  def area(self):\n",
        "    # applying HERON'S FORMULA\n",
        "    semiperimeter = s = (self.side1 + self.side2 + self.side3) / 2\n",
        "    return (s * (s - self.side1) * (s - self.side2) * (s - self.side3))  **0.5\n",
        "\n",
        "  def perimeter(self):\n",
        "    return self.side1 + self.side2 + self.side3\n",
        "\n",
        "\n",
        "\n",
        "# eg\n",
        "rect = Rectangle(8, 12)\n",
        "circl = Circle(14)\n",
        "triang = Triangle(3, 4, 5)\n",
        "\n",
        "# printing ar & perim\n",
        "print(f\" Rectangle : Area = {rect.area()},  Perimeter = {rect.perimeter()} \")\n",
        "print(f\" Circle : Area = {circl.area()},  Circumference  = {circl.perimeter()} \")\n",
        "print(f\" Triangle : Area = {triang.area()},  Perimeter = {triang.perimeter()} \")"
      ],
      "metadata": {
        "colab": {
          "base_uri": "https://localhost:8080/"
        },
        "id": "K_Lbq7pIDHsm",
        "outputId": "82a07c60-60b0-4f02-fef5-f0a605765aa7"
      },
      "execution_count": null,
      "outputs": [
        {
          "output_type": "stream",
          "name": "stdout",
          "text": [
            " Rectangle : Area = 96,  Perimeter = 40 \n",
            " Circle : Area = 615.7521601035994,  Circumference  = 87.96459430051421 \n",
            " Triangle : Area = 6.0,  Perimeter = 12 \n"
          ]
        }
      ]
    },
    {
      "cell_type": "code",
      "source": [
        "class ListNode:\n",
        "  def __init__(self, value):\n",
        "    self.value = value\n",
        "    self.next = None\n",
        "\n",
        "\n",
        "# defining reverse node funct\n",
        "def Reverse_Linked_List(head):\n",
        "  prev = None\n",
        "  current = head\n",
        "  while current:\n",
        "    next_node = current.next\n",
        "    current.next = prev\n",
        "    prev = current\n",
        "    current = next_node\n",
        "\n",
        "  return prev\n",
        "\n",
        "\n",
        "# eg\n",
        "if __name__ == \"__main__\":\n",
        "    # Create a sample linked list: 1 -> 2 -> 3 -> 4\n",
        "    head = ListNode(1)\n",
        "    head.next = ListNode(2)\n",
        "    head.next.next = ListNode(3)\n",
        "    head.next.next.next = ListNode(4)\n",
        "    head.next.next.next.next = ListNode(5)\n",
        "\n",
        "    print(\"Our Original linked list looks like as:\")\n",
        "    current = head\n",
        "    while current:\n",
        "        print(current.value, end=\" -> \")\n",
        "        current = current.next\n",
        "    print(\"None\")\n",
        "\n",
        "   # REVERSING\n",
        "    print(\"The reversed linked list are as below: \")\n",
        "    new_head = Reverse_Linked_List(head)\n",
        "    current = new_head\n",
        "    while current:\n",
        "          print(current.value, end=\" -> \")\n",
        "          current = current.next\n",
        "    print(\"None\")"
      ],
      "metadata": {
        "colab": {
          "base_uri": "https://localhost:8080/"
        },
        "id": "1Ckd0StzRjZH",
        "outputId": "4bece8a4-ed82-46f8-c383-73b7f8f176ae"
      },
      "execution_count": null,
      "outputs": [
        {
          "output_type": "stream",
          "name": "stdout",
          "text": [
            "Our Original linked list looks like as:\n",
            "1 -> 2 -> 3 -> 4 -> 5 -> None\n",
            "The reversed linked list are as below: \n",
            "5 -> 4 -> 3 -> 2 -> 1 -> None\n"
          ]
        }
      ]
    },
    {
      "cell_type": "code",
      "source": [
        "from collections import deque"
      ],
      "metadata": {
        "id": "1UhLze95dDqa"
      },
      "execution_count": null,
      "outputs": []
    },
    {
      "cell_type": "code",
      "source": [
        "class Stack_Using_Queues:\n",
        "  def __init__(self):\n",
        "    self.q1 = deque()            #main storage,  q1 = queue of shortform\n",
        "    self.q2 = deque()    #temporary store\n",
        "\n",
        "  def push(self, value):\n",
        "    while self.q1:\n",
        "      # move all elements from q1 to q2\n",
        "      self.q2.append(self.q1.popleft())\n",
        "\n",
        "    #adding new elements to q1 (which is empty)\n",
        "    self.q1.append(value)\n",
        "\n",
        "    while self.q2:\n",
        "      # move all elements from q2 to q1\n",
        "      self.q1.append(self.q2.popleft())\n",
        "\n",
        "  def pop(self, value):\n",
        "    if not self.q1:\n",
        "      raise IndexError(\"Stack is Empty\")\n",
        "    return self.q1.popleft()\n",
        "\n",
        "  def top(self):\n",
        "    if not self.q1:\n",
        "      raise IndexError(\"Nothing is present in the stack\")\n",
        "    return self.q1[0]\n",
        "\n",
        "  def is_empty(self):\n",
        "    return not self.q1\n",
        "\n",
        "\n",
        "# eg\n",
        "if __name__ == \"__main__\":\n",
        "    stack = Stack_Using_Queues()\n",
        "    stack.push(101)\n",
        "    stack.push(202)\n",
        "    stack.push(303)\n",
        "\n",
        "    print(f\"Top element: {stack.top()}\")  # Should print 300\n",
        "    print(f\"Pop: {stack.pop(101)}\")          # Should print 300\n",
        "    print(f\"Pop: {stack.pop(101)}\")          # Should print 202\n",
        "    print(f\"Is stack empty? {stack.is_empty()}\")  # Should print False\n",
        "    print(f\"Pop: {stack.pop(101)}\")          # Should print 101\n",
        "    print(f\"Is stack empty? {stack.is_empty()}\")  # Should print True"
      ],
      "metadata": {
        "colab": {
          "base_uri": "https://localhost:8080/"
        },
        "id": "9Z7rRP3rjj5A",
        "outputId": "cd965d07-455e-4c55-8c1b-733da62f9067"
      },
      "execution_count": null,
      "outputs": [
        {
          "output_type": "stream",
          "name": "stdout",
          "text": [
            "Top element: 303\n",
            "Pop: 303\n",
            "Pop: 202\n",
            "Is stack empty? False\n",
            "Pop: 101\n",
            "Is stack empty? True\n"
          ]
        }
      ]
    },
    {
      "cell_type": "code",
      "source": [
        "print(\"Assigment 02 is done\")"
      ],
      "metadata": {
        "colab": {
          "base_uri": "https://localhost:8080/"
        },
        "id": "RZx2IzvpmTK-",
        "outputId": "8a954ea7-4c00-4df4-e097-0104cdda89a9"
      },
      "execution_count": null,
      "outputs": [
        {
          "output_type": "stream",
          "name": "stdout",
          "text": [
            "Assigment 02 is done\n"
          ]
        }
      ]
    },
    {
      "cell_type": "code",
      "source": [
        "print(\"Developed with ❤️ by Ankit Kumar\")"
      ],
      "metadata": {
        "colab": {
          "base_uri": "https://localhost:8080/"
        },
        "id": "WME9noa4jpRl",
        "outputId": "d9459373-bd95-47a4-867b-5c6cfb62cf02"
      },
      "execution_count": null,
      "outputs": [
        {
          "output_type": "stream",
          "name": "stdout",
          "text": [
            "Developed with ❤️ by Ankit Kumar\n"
          ]
        }
      ]
    },
    {
      "cell_type": "code",
      "source": [
        "print(\"Thank you !!\")"
      ],
      "metadata": {
        "colab": {
          "base_uri": "https://localhost:8080/"
        },
        "id": "MY4iKhTsmZG_",
        "outputId": "85eb930a-b247-49b2-9a24-87e700bb358a"
      },
      "execution_count": null,
      "outputs": [
        {
          "output_type": "stream",
          "name": "stdout",
          "text": [
            "Thank you !!\n"
          ]
        }
      ]
    },
    {
      "cell_type": "code",
      "source": [],
      "metadata": {
        "id": "1KTqgvtYnFs2"
      },
      "execution_count": null,
      "outputs": []
    },
    {
      "cell_type": "markdown",
      "source": [
        "# Assig: 03"
      ],
      "metadata": {
        "id": "5Z74zTYvyrS2"
      }
    },
    {
      "cell_type": "code",
      "source": [
        "\n",
        "class TreeNode:\n",
        "    def __init__(self, value):\n",
        "        self.value = value\n",
        "        self.left = None\n",
        "        self.right = None\n",
        "\n",
        "def preorder_traversal(root):\n",
        "    if root is None:\n",
        "        return []\n",
        "    traversal = []\n",
        "    traversal.append(root.value)\n",
        "    traversal.extend(preorder_traversal(root.left))\n",
        "    traversal.extend(preorder_traversal(root.right))\n",
        "    return traversal\n",
        "\n",
        "def inorder_traversal(root):\n",
        "    if root is None:\n",
        "        return []\n",
        "    traversal = []\n",
        "    traversal.extend(inorder_traversal(root.left))\n",
        "    traversal.append(root.value)\n",
        "    traversal.extend(inorder_traversal(root.right))\n",
        "    return traversal\n",
        "\n",
        "def postorder_traversal(root):\n",
        "    if root is None:\n",
        "        return []\n",
        "    traversal = []\n",
        "    traversal.extend(postorder_traversal(root.left))\n",
        "    traversal.extend(postorder_traversal(root.right))\n",
        "    traversal.append(root.value)\n",
        "    return traversal\n",
        "\n",
        "\n",
        "\n",
        "#eg\n",
        "# Constructing a sample binary tree\n",
        "\n",
        "root = TreeNode('A')    # Level 1st\n",
        "\n",
        "root.left = TreeNode('B')     # Level 2nd\n",
        "root.right = TreeNode('C')\n",
        "\n",
        "root.left.left = TreeNode('D')  # Level 3rd starts\n",
        "root.left.right = TreeNode('E')\n",
        "root.right.left = TreeNode('F')\n",
        "root.right.right = TreeNode('G')\n",
        "\n",
        "\n",
        "root.left.left.left = TreeNode('H')  # level 4th FILLING DATA\n",
        "root.left.right.left = TreeNode('I')\n",
        "root.right.right.left = TreeNode('J')\n",
        "\n",
        "\n",
        "root.left.left.left.right = TreeNode('K')   # 5th Level mai ek hi data tha so we don't write all okkk Ankit kumar\n",
        "root.left.right.left.right = TreeNode('L')\n",
        "root.right.right.left.left = TreeNode('M')\n",
        "\n",
        "\n",
        "\n",
        "print(\"Preorder traversal:\", preorder_traversal(root))\n",
        "print(\"Inorder traversal:\", inorder_traversal(root))\n",
        "print(\"Postorder traversal:\", postorder_traversal(root))\n"
      ],
      "metadata": {
        "colab": {
          "base_uri": "https://localhost:8080/"
        },
        "id": "tuPIXVfcyswv",
        "outputId": "82deb4c8-c7b6-4391-edfc-64af1b620303"
      },
      "execution_count": null,
      "outputs": [
        {
          "output_type": "stream",
          "name": "stdout",
          "text": [
            "Preorder traversal: ['A', 'B', 'D', 'H', 'K', 'E', 'I', 'L', 'C', 'F', 'G', 'J', 'M']\n",
            "Inorder traversal: ['H', 'K', 'D', 'B', 'I', 'L', 'E', 'A', 'F', 'C', 'M', 'J', 'G']\n",
            "Postorder traversal: ['K', 'H', 'D', 'L', 'I', 'E', 'B', 'F', 'M', 'J', 'G', 'C', 'A']\n"
          ]
        }
      ]
    },
    {
      "cell_type": "code",
      "source": [
        "def height_of_BT(root):\n",
        "    if root is None:\n",
        "        return -1  # Height of an empty tree is -1\n",
        "    else:\n",
        "        left_height = height_of_BT(root.left)\n",
        "        right_height = height_of_BT(root.right)\n",
        "        return 1 + max(left_height, right_height)\n",
        "\n",
        "\n",
        "from collections import deque\n",
        "\n",
        "def largest_value_AtEachNode(root):\n",
        "    if root is None:\n",
        "        return []\n",
        "\n",
        "    result = []\n",
        "    queue = deque([root])\n",
        "\n",
        "    while queue:\n",
        "        level_size = len(queue)\n",
        "        max_value = ''  # Initialize max_value for each level as an empty string\n",
        "        for _ in range(level_size):\n",
        "            node = queue.popleft()\n",
        "            max_value = max(max_value, node.value)\n",
        "            if node.left:\n",
        "                queue.append(node.left)\n",
        "            if node.right:\n",
        "                queue.append(node.right)\n",
        "        result.append(max_value)\n",
        "\n",
        "    return result\n",
        "\n",
        "\n",
        "print(\"Largest value at each level:\", largest_value_AtEachNode(root))\n",
        "print(\"Height of the binary tree:\", height_of_BT(root))"
      ],
      "metadata": {
        "colab": {
          "base_uri": "https://localhost:8080/"
        },
        "id": "_NvYgi_GytSW",
        "outputId": "61129e1e-c35e-4c2b-a28d-f799ad9787b4"
      },
      "execution_count": null,
      "outputs": [
        {
          "output_type": "stream",
          "name": "stdout",
          "text": [
            "Largest value at each level: ['A', 'C', 'G', 'J', 'M']\n",
            "Height of the binary tree: 4\n"
          ]
        }
      ]
    },
    {
      "cell_type": "code",
      "source": [],
      "metadata": {
        "id": "PlL1ehWcytPm"
      },
      "execution_count": null,
      "outputs": []
    },
    {
      "cell_type": "code",
      "source": [],
      "metadata": {
        "id": "jAOu1DQVPJ3n"
      },
      "execution_count": null,
      "outputs": []
    },
    {
      "cell_type": "markdown",
      "source": [
        "# Assig: 04"
      ],
      "metadata": {
        "id": "ZWDyZBO2PKLe"
      }
    },
    {
      "cell_type": "code",
      "source": [],
      "metadata": {
        "id": "8bOe4nI3PEJ6"
      },
      "execution_count": null,
      "outputs": []
    },
    {
      "cell_type": "code",
      "source": [
        "class TreeNode:\n",
        "    def __init__(self, value):\n",
        "        self.value = value\n",
        "        self.left = None\n",
        "        self.right = None\n",
        "\n",
        "def inorder_trav(root):\n",
        "    if root is None:\n",
        "        return []\n",
        "    traversal = []\n",
        "    traversal.extend(inorder_trav(root.left))\n",
        "    traversal.append(root.value)\n",
        "    traversal.extend(inorder_trav(root.right))\n",
        "    return traversal\n",
        "\n",
        "def is_BST(root):\n",
        "    inorder_sequence = inorder_trav(root)\n",
        "    for i in range(1, len(inorder_sequence)):\n",
        "        if inorder_sequence[i] < inorder_sequence[i - 1]:\n",
        "            return False\n",
        "    return True\n",
        "\n",
        "\n",
        "\n",
        "\n",
        "#eg\n",
        "# building BT\n",
        "root = TreeNode(4)\n",
        "root.left = TreeNode(2) #level 2\n",
        "root.right = TreeNode(6)\n",
        "root.left.left = TreeNode(1) #level 3\n",
        "root.left.right = TreeNode(3)\n",
        "\n",
        "print(\"Is the BT is BST?  \\n Answer:\", is_BST(root))\n"
      ],
      "metadata": {
        "id": "MDMEX4vhPNHm",
        "colab": {
          "base_uri": "https://localhost:8080/"
        },
        "outputId": "7bc7718d-c2b3-44a8-99a7-7183fb45bc86"
      },
      "execution_count": null,
      "outputs": [
        {
          "output_type": "stream",
          "name": "stdout",
          "text": [
            "Is the BT is BST?  \n",
            " Answer: True\n"
          ]
        }
      ]
    },
    {
      "cell_type": "code",
      "source": [
        "class TreeNode:\n",
        "    def __init__(self, val):\n",
        "        self.val = val\n",
        "        self.left = None\n",
        "        self.right = None\n",
        "\n",
        "def closest_val(root, target):\n",
        "    closest = root.val\n",
        "    while root:\n",
        "        closest = min(root.val, closest, key=lambda x: abs(target - x))\n",
        "        if target < root.val:\n",
        "            root = root.left\n",
        "        elif target > root.val:\n",
        "            root = root.right\n",
        "        else:\n",
        "            break\n",
        "    return closest\n",
        "\n",
        "#eg\n",
        "# building BT\n",
        "root = TreeNode(4)\n",
        "root.left = TreeNode(2) #level 2\n",
        "root.right = TreeNode(6)\n",
        "root.left.left = TreeNode(1) #level 3\n",
        "root.left.right = TreeNode(3)\n",
        "\n",
        "\n",
        "target_val = 5\n",
        "print(\"Closest value to\", target_val, \"is :\", closest_val(root, target_val))"
      ],
      "metadata": {
        "colab": {
          "base_uri": "https://localhost:8080/"
        },
        "id": "uznk5AV_PDbU",
        "outputId": "431d9c9a-6c58-450e-d180-06a9419ca861"
      },
      "execution_count": null,
      "outputs": [
        {
          "output_type": "stream",
          "name": "stdout",
          "text": [
            "Closest value to 5 is : 6\n"
          ]
        }
      ]
    },
    {
      "cell_type": "code",
      "source": [],
      "metadata": {
        "id": "lKUSO26CKZL7"
      },
      "execution_count": null,
      "outputs": []
    },
    {
      "cell_type": "code",
      "source": [],
      "metadata": {
        "id": "cmaOHEhdKZJb"
      },
      "execution_count": null,
      "outputs": []
    },
    {
      "cell_type": "code",
      "source": [
        "class TreeNode:\n",
        "    def __init__(self, val):\n",
        "        self.val = val\n",
        "        self.left = None\n",
        "        self.right = None\n",
        "\n",
        "def inorder_trav(root, nodes):\n",
        "    if root:\n",
        "        inorder_trav(root.left, nodes)\n",
        "        nodes.append(root.val)\n",
        "        inorder_trav(root.right, nodes)\n",
        "\n",
        "def making_balance_BST(nodes):\n",
        "    if not nodes:\n",
        "        return None\n",
        "\n",
        "    mid = len(nodes) // 2\n",
        "    root = TreeNode(nodes[mid])\n",
        "    root.left = making_balance_BST(nodes[:mid])\n",
        "    root.right = making_balance_BST(nodes[mid + 1:])\n",
        "    return root\n",
        "\n",
        "def balance_bst(root):\n",
        "    nodes = []\n",
        "    inorder_trav(root, nodes)\n",
        "    # Sort the nodes\n",
        "    nodes.sort()\n",
        "    # Rebuild the balanced BST\n",
        "    return making_balance_BST(nodes)\n",
        "\n",
        "def print_bst(root):\n",
        "    if root:\n",
        "        print_bst(root.left)\n",
        "        print(root.val, end=\" \")\n",
        "        print_bst(root.right)\n",
        "\n",
        "# eg\n",
        "# taking  an unbalanced BST\n",
        "Unbal_root = TreeNode(10)\n",
        "Unbal_root.right = TreeNode(20)\n",
        "Unbal_root.right.left = TreeNode(25)\n",
        "Unbal_root.right.right = TreeNode(30)\n",
        "Unbal_root.right.right.right = TreeNode(40)\n",
        "Unbal_root.right.right.right.right = TreeNode(50)\n",
        "\n",
        "\n",
        "\n",
        "\n",
        "# Printing  unbalanced BST\n",
        "print(\"Unbalanced BST:\")\n",
        "print_bst(Unbal_root)\n",
        "print()\n",
        "\n",
        "# Balancing the unbalanced BST\n",
        "balanced_root = balance_bst(Unbal_root)\n",
        "\n",
        "\n",
        "\n",
        "# Print  balanced BST\n",
        "print(\"\\nBalanced BST (or AVL tree) in In-order Traversal form as look like:\")\n",
        "print_bst(balanced_root)\n",
        "\n"
      ],
      "metadata": {
        "colab": {
          "base_uri": "https://localhost:8080/"
        },
        "id": "ScHDZfvGPDS1",
        "outputId": "52b1d38d-4c15-4f33-f595-962e84f277c3"
      },
      "execution_count": null,
      "outputs": [
        {
          "output_type": "stream",
          "name": "stdout",
          "text": [
            "Unbalanced BST:\n",
            "10 25 20 30 40 50 \n",
            "\n",
            "Balanced BST (or AVL tree) in In-order Traversal form as look like:\n",
            "10 20 25 30 40 50 "
          ]
        }
      ]
    },
    {
      "cell_type": "code",
      "source": [],
      "metadata": {
        "id": "ESinLIJnPNKe"
      },
      "execution_count": null,
      "outputs": []
    },
    {
      "cell_type": "code",
      "source": [
        "print(\"Assig 04 done by Ankit Kumar \\n Happy Coding!!\")"
      ],
      "metadata": {
        "colab": {
          "base_uri": "https://localhost:8080/"
        },
        "id": "Q4Utrr3bMWe6",
        "outputId": "3328cc75-2318-48b0-fb6c-5c23ee3ac455"
      },
      "execution_count": null,
      "outputs": [
        {
          "output_type": "stream",
          "name": "stdout",
          "text": [
            "Assig 04 done by Ankit Kumar \n",
            " Happy Coding!!\n"
          ]
        }
      ]
    }
  ]
}