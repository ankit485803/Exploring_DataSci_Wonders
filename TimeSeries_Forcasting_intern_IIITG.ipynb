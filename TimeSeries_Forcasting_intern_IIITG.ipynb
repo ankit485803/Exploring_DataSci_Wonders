{
  "nbformat": 4,
  "nbformat_minor": 0,
  "metadata": {
    "colab": {
      "provenance": [],
      "authorship_tag": "ABX9TyN5DyJmG1QlDyRvpk7hXbjF",
      "include_colab_link": true
    },
    "kernelspec": {
      "name": "python3",
      "display_name": "Python 3"
    },
    "language_info": {
      "name": "python"
    }
  },
  "cells": [
    {
      "cell_type": "markdown",
      "metadata": {
        "id": "view-in-github",
        "colab_type": "text"
      },
      "source": [
        "<a href=\"https://colab.research.google.com/github/ankit485803/Exploring_DataSci_Wonders/blob/main/TimeSeries_Forcasting_intern_IIITG.ipynb\" target=\"_parent\"><img src=\"https://colab.research.google.com/assets/colab-badge.svg\" alt=\"Open In Colab\"/></a>"
      ]
    },
    {
      "cell_type": "code",
      "execution_count": null,
      "metadata": {
        "colab": {
          "base_uri": "https://localhost:8080/"
        },
        "id": "aM28A1sDulbu",
        "outputId": "755a530c-f7ff-4992-ec22-1f6344a9c934"
      },
      "outputs": [
        {
          "output_type": "stream",
          "name": "stdout",
          "text": [
            "Welcome to: \n"
          ]
        }
      ],
      "source": [
        "# This is my (ANKIT  KUMAR) first sample created for the purposes of 'Forecasting models using Time Series' data at my internship time\n",
        "# at the Indian Institute of Information and  Technology Guwahati (IIITG)\n",
        "\n",
        "print(\"Welcome to: \")"
      ]
    },
    {
      "cell_type": "code",
      "source": [
        "print(\"Time Series Forcasting using Facebook FbProphet\")"
      ],
      "metadata": {
        "colab": {
          "base_uri": "https://localhost:8080/"
        },
        "id": "hCZWc1FtwWLf",
        "outputId": "6ad1870d-4acf-434c-b868-b9322d3dd219"
      },
      "execution_count": null,
      "outputs": [
        {
          "output_type": "stream",
          "name": "stdout",
          "text": [
            "Time Series Forcasting using Facebook FbProphet\n"
          ]
        }
      ]
    },
    {
      "cell_type": "markdown",
      "source": [
        "About\n",
        "# PyStan (Library Py):\n",
        "\n",
        "is a Python interface to Stan, a package for Bayesian inference.  is a tool that allows Python users to interact with and utilize Stan, which is a software package designed for conducting Bayesian inference, a statistical technique used for estimating probability distributions based on prior knowledge and observed data.\n",
        "\n",
        "src for developer (refernce):  https://github.com/stan-dev/pystan\n",
        "\n",
        "Installation parts:   ***pip install pystan***\n",
        "\n",
        "\n",
        "\n",
        "\n",
        "documentation:  https://pypi.org/project/pystan/"
      ],
      "metadata": {
        "id": "HLXVW5ZS7ZHK"
      }
    },
    {
      "cell_type": "code",
      "source": [
        "#  NUMPY: handling numerical computing, rovides support for large, multi-dimensional\n",
        "#     arrays and matrices, along with a collection of mathematical functions to operate on these arrays efficiently."
      ],
      "metadata": {
        "id": "5cxbXoInAona"
      },
      "execution_count": null,
      "outputs": []
    },
    {
      "cell_type": "code",
      "source": [
        "pip install pystan"
      ],
      "metadata": {
        "colab": {
          "base_uri": "https://localhost:8080/"
        },
        "id": "WHBQunzQ7_tI",
        "outputId": "33971f57-4e3d-482a-b840-491922511138"
      },
      "execution_count": null,
      "outputs": [
        {
          "output_type": "stream",
          "name": "stdout",
          "text": [
            "Collecting pystan\n",
            "  Downloading pystan-3.9.1-py3-none-any.whl (13 kB)\n",
            "Requirement already satisfied: aiohttp<4.0,>=3.6 in /usr/local/lib/python3.10/dist-packages (from pystan) (3.9.5)\n",
            "Collecting clikit<0.7,>=0.6 (from pystan)\n",
            "  Downloading clikit-0.6.2-py2.py3-none-any.whl (91 kB)\n",
            "\u001b[2K     \u001b[90m━━━━━━━━━━━━━━━━━━━━━━━━━━━━━━━━━━━━━━━━\u001b[0m \u001b[32m91.8/91.8 kB\u001b[0m \u001b[31m4.0 MB/s\u001b[0m eta \u001b[36m0:00:00\u001b[0m\n",
            "\u001b[?25hCollecting httpstan<4.13,>=4.12 (from pystan)\n",
            "  Downloading httpstan-4.12.0-cp310-cp310-manylinux_2_17_x86_64.manylinux2014_x86_64.whl (45.3 MB)\n",
            "\u001b[2K     \u001b[90m━━━━━━━━━━━━━━━━━━━━━━━━━━━━━━━━━━━━━━━━\u001b[0m \u001b[32m45.3/45.3 MB\u001b[0m \u001b[31m17.0 MB/s\u001b[0m eta \u001b[36m0:00:00\u001b[0m\n",
            "\u001b[?25hRequirement already satisfied: numpy<2.0,>=1.19 in /usr/local/lib/python3.10/dist-packages (from pystan) (1.25.2)\n",
            "Collecting pysimdjson<7,>=5.0.2 (from pystan)\n",
            "  Downloading pysimdjson-6.0.2-cp310-cp310-manylinux_2_17_x86_64.manylinux2014_x86_64.whl (1.8 MB)\n",
            "\u001b[2K     \u001b[90m━━━━━━━━━━━━━━━━━━━━━━━━━━━━━━━━━━━━━━━━\u001b[0m \u001b[32m1.8/1.8 MB\u001b[0m \u001b[31m83.5 MB/s\u001b[0m eta \u001b[36m0:00:00\u001b[0m\n",
            "\u001b[?25hRequirement already satisfied: setuptools in /usr/local/lib/python3.10/dist-packages (from pystan) (67.7.2)\n",
            "Requirement already satisfied: aiosignal>=1.1.2 in /usr/local/lib/python3.10/dist-packages (from aiohttp<4.0,>=3.6->pystan) (1.3.1)\n",
            "Requirement already satisfied: attrs>=17.3.0 in /usr/local/lib/python3.10/dist-packages (from aiohttp<4.0,>=3.6->pystan) (23.2.0)\n",
            "Requirement already satisfied: frozenlist>=1.1.1 in /usr/local/lib/python3.10/dist-packages (from aiohttp<4.0,>=3.6->pystan) (1.4.1)\n",
            "Requirement already satisfied: multidict<7.0,>=4.5 in /usr/local/lib/python3.10/dist-packages (from aiohttp<4.0,>=3.6->pystan) (6.0.5)\n",
            "Requirement already satisfied: yarl<2.0,>=1.0 in /usr/local/lib/python3.10/dist-packages (from aiohttp<4.0,>=3.6->pystan) (1.9.4)\n",
            "Requirement already satisfied: async-timeout<5.0,>=4.0 in /usr/local/lib/python3.10/dist-packages (from aiohttp<4.0,>=3.6->pystan) (4.0.3)\n",
            "Collecting crashtest<0.4.0,>=0.3.0 (from clikit<0.7,>=0.6->pystan)\n",
            "  Downloading crashtest-0.3.1-py3-none-any.whl (7.0 kB)\n",
            "Collecting pastel<0.3.0,>=0.2.0 (from clikit<0.7,>=0.6->pystan)\n",
            "  Downloading pastel-0.2.1-py2.py3-none-any.whl (6.0 kB)\n",
            "Collecting pylev<2.0,>=1.3 (from clikit<0.7,>=0.6->pystan)\n",
            "  Downloading pylev-1.4.0-py2.py3-none-any.whl (6.1 kB)\n",
            "Requirement already satisfied: appdirs<2.0,>=1.4 in /usr/local/lib/python3.10/dist-packages (from httpstan<4.13,>=4.12->pystan) (1.4.4)\n",
            "Collecting marshmallow<4.0,>=3.10 (from httpstan<4.13,>=4.12->pystan)\n",
            "  Downloading marshmallow-3.21.2-py3-none-any.whl (49 kB)\n",
            "\u001b[2K     \u001b[90m━━━━━━━━━━━━━━━━━━━━━━━━━━━━━━━━━━━━━━━━\u001b[0m \u001b[32m49.3/49.3 kB\u001b[0m \u001b[31m8.0 MB/s\u001b[0m eta \u001b[36m0:00:00\u001b[0m\n",
            "\u001b[?25hCollecting webargs<9.0,>=8.0 (from httpstan<4.13,>=4.12->pystan)\n",
            "  Downloading webargs-8.4.0-py3-none-any.whl (31 kB)\n",
            "Requirement already satisfied: packaging>=17.0 in /usr/local/lib/python3.10/dist-packages (from marshmallow<4.0,>=3.10->httpstan<4.13,>=4.12->pystan) (24.0)\n",
            "Requirement already satisfied: idna>=2.0 in /usr/local/lib/python3.10/dist-packages (from yarl<2.0,>=1.0->aiohttp<4.0,>=3.6->pystan) (3.7)\n",
            "Installing collected packages: pylev, pysimdjson, pastel, marshmallow, crashtest, webargs, clikit, httpstan, pystan\n",
            "Successfully installed clikit-0.6.2 crashtest-0.3.1 httpstan-4.12.0 marshmallow-3.21.2 pastel-0.2.1 pylev-1.4.0 pysimdjson-6.0.2 pystan-3.9.1 webargs-8.4.0\n"
          ]
        }
      ]
    },
    {
      "cell_type": "code",
      "source": [],
      "metadata": {
        "id": "llHCz6F4AbQh"
      },
      "execution_count": null,
      "outputs": []
    },
    {
      "cell_type": "markdown",
      "source": [
        "# FbProphet"
      ],
      "metadata": {
        "id": "zYXv24dRESwC"
      }
    },
    {
      "cell_type": "code",
      "source": [
        "print(\"We import the necessary python modules library in this Codes Cell\")\n",
        "\n",
        "\n",
        "# Why these library  & Reasons are below:\n",
        "\n",
        "'''\n",
        "1.  FBPROPHET: is an open-source forecasting tool developed by Facebook for time series forecasting, designed to handle\n",
        "                      datasets with daily observations that display patterns on different time scales such as yearly, weekly, and daily.\n",
        "\n",
        "\n",
        "\n",
        "2. PANDAS:  used for data manipulation and analysis, provides data structures like DataFrames and Series that allow you to work with structured data easily.\n",
        "        i) Reading and writing data from various file formats like CSV, Excel, SQL databases, etc.\n",
        "        ii) Data manipulation like filtering, sorting, grouping, and aggregating data.\n",
        "        iii) Data visualization using built-in plotting functions.\n",
        "\n",
        "\n",
        "3. MATPLOTLIB:  popular for data visualization library, create various types of plots such as line plots, bar plots, scatter plots, histograms, and more.\n",
        "\n",
        "'''"
      ],
      "metadata": {
        "colab": {
          "base_uri": "https://localhost:8080/",
          "height": 105
        },
        "id": "aA-0GvgR9zgD",
        "outputId": "c12f5b58-2777-4330-8f2a-f07735996d14"
      },
      "execution_count": null,
      "outputs": [
        {
          "output_type": "stream",
          "name": "stdout",
          "text": [
            "We import the necessary python modules library in this codes cell\n"
          ]
        },
        {
          "output_type": "execute_result",
          "data": {
            "text/plain": [
              "'\\n1.  FBPROPHET  for forcasting purposes\\n\\n\\n\\n2. PANDAS:  used for data manipulation and analysis, provides data structures like DataFrames and Series that allow you to work with structured data easily.\\n        i) Reading and writing data from various file formats like CSV, Excel, SQL databases, etc.\\n        ii) Data manipulation like filtering, sorting, grouping, and aggregating data.\\n        iii) Data visualization using built-in plotting functions.\\n\\n\\n3. MATPLOTLIB:  popular for data visualization library, create various types of plots such as line plots, bar plots, scatter plots, histograms, and more.\\n\\n'"
            ],
            "application/vnd.google.colaboratory.intrinsic+json": {
              "type": "string"
            }
          },
          "metadata": {},
          "execution_count": 6
        }
      ]
    },
    {
      "cell_type": "code",
      "source": [
        "# NOTE:\n",
        "\n",
        "\n",
        "#FbProphet is no directly imported in the Google Collaboratory notebook that's why\n",
        "# we first install using pip (package management system used to install and manage software packages written in Python) in this environment IDE\n",
        "# then we'll import for our purposes"
      ],
      "metadata": {
        "id": "N9WdTjm-EnlQ"
      },
      "execution_count": null,
      "outputs": []
    },
    {
      "cell_type": "code",
      "source": [
        "pip install pyproject-toml"
      ],
      "metadata": {
        "colab": {
          "base_uri": "https://localhost:8080/"
        },
        "id": "U4RQPChbJgUU",
        "outputId": "a4aed20f-ef1c-4ea1-96d6-58ca6ed54658"
      },
      "execution_count": null,
      "outputs": [
        {
          "output_type": "stream",
          "name": "stdout",
          "text": [
            "Requirement already satisfied: pyproject-toml in /usr/local/lib/python3.10/dist-packages (0.0.10)\n",
            "Requirement already satisfied: setuptools>=42 in /usr/local/lib/python3.10/dist-packages (from pyproject-toml) (67.7.2)\n",
            "Requirement already satisfied: wheel in /usr/local/lib/python3.10/dist-packages (from pyproject-toml) (0.43.0)\n",
            "Requirement already satisfied: toml in /usr/local/lib/python3.10/dist-packages (from pyproject-toml) (0.10.2)\n",
            "Requirement already satisfied: jsonschema in /usr/local/lib/python3.10/dist-packages (from pyproject-toml) (4.19.2)\n",
            "Requirement already satisfied: attrs>=22.2.0 in /usr/local/lib/python3.10/dist-packages (from jsonschema->pyproject-toml) (23.2.0)\n",
            "Requirement already satisfied: jsonschema-specifications>=2023.03.6 in /usr/local/lib/python3.10/dist-packages (from jsonschema->pyproject-toml) (2023.12.1)\n",
            "Requirement already satisfied: referencing>=0.28.4 in /usr/local/lib/python3.10/dist-packages (from jsonschema->pyproject-toml) (0.35.1)\n",
            "Requirement already satisfied: rpds-py>=0.7.1 in /usr/local/lib/python3.10/dist-packages (from jsonschema->pyproject-toml) (0.18.1)\n"
          ]
        }
      ]
    },
    {
      "cell_type": "code",
      "source": [
        "pip install fbprophet"
      ],
      "metadata": {
        "colab": {
          "base_uri": "https://localhost:8080/"
        },
        "id": "-GNYtpONGrBJ",
        "outputId": "69d00bab-e107-4904-c69e-4bdb060d0240"
      },
      "execution_count": null,
      "outputs": [
        {
          "output_type": "stream",
          "name": "stdout",
          "text": [
            "Collecting fbprophet\n",
            "  Using cached fbprophet-0.7.1.tar.gz (64 kB)\n",
            "  Preparing metadata (setup.py) ... \u001b[?25l\u001b[?25hdone\n",
            "Requirement already satisfied: Cython>=0.22 in /usr/local/lib/python3.10/dist-packages (from fbprophet) (3.0.10)\n",
            "Collecting cmdstanpy==0.9.5 (from fbprophet)\n",
            "  Using cached cmdstanpy-0.9.5-py3-none-any.whl (37 kB)\n",
            "Requirement already satisfied: pystan>=2.14 in /usr/local/lib/python3.10/dist-packages (from fbprophet) (3.9.1)\n",
            "Requirement already satisfied: numpy>=1.15.4 in /usr/local/lib/python3.10/dist-packages (from fbprophet) (1.25.2)\n",
            "Requirement already satisfied: pandas>=1.0.4 in /usr/local/lib/python3.10/dist-packages (from fbprophet) (2.0.3)\n",
            "Requirement already satisfied: matplotlib>=2.0.0 in /usr/local/lib/python3.10/dist-packages (from fbprophet) (3.7.1)\n",
            "Collecting LunarCalendar>=0.0.9 (from fbprophet)\n",
            "  Using cached LunarCalendar-0.0.9-py2.py3-none-any.whl (18 kB)\n",
            "Collecting convertdate>=2.1.2 (from fbprophet)\n",
            "  Using cached convertdate-2.4.0-py3-none-any.whl (47 kB)\n",
            "Requirement already satisfied: holidays>=0.10.2 in /usr/local/lib/python3.10/dist-packages (from fbprophet) (0.48)\n",
            "Collecting setuptools-git>=1.2 (from fbprophet)\n",
            "  Using cached setuptools_git-1.2-py2.py3-none-any.whl (10 kB)\n",
            "Requirement already satisfied: python-dateutil>=2.8.0 in /usr/local/lib/python3.10/dist-packages (from fbprophet) (2.8.2)\n",
            "Requirement already satisfied: tqdm>=4.36.1 in /usr/local/lib/python3.10/dist-packages (from fbprophet) (4.66.4)\n",
            "Collecting pymeeus<=1,>=0.3.13 (from convertdate>=2.1.2->fbprophet)\n",
            "  Using cached PyMeeus-0.5.12-py3-none-any.whl\n",
            "Collecting ephem>=3.7.5.3 (from LunarCalendar>=0.0.9->fbprophet)\n",
            "  Using cached ephem-4.1.5-cp310-cp310-manylinux_2_17_x86_64.manylinux2014_x86_64.whl (1.8 MB)\n",
            "Requirement already satisfied: pytz in /usr/local/lib/python3.10/dist-packages (from LunarCalendar>=0.0.9->fbprophet) (2023.4)\n",
            "Requirement already satisfied: contourpy>=1.0.1 in /usr/local/lib/python3.10/dist-packages (from matplotlib>=2.0.0->fbprophet) (1.2.1)\n",
            "Requirement already satisfied: cycler>=0.10 in /usr/local/lib/python3.10/dist-packages (from matplotlib>=2.0.0->fbprophet) (0.12.1)\n",
            "Requirement already satisfied: fonttools>=4.22.0 in /usr/local/lib/python3.10/dist-packages (from matplotlib>=2.0.0->fbprophet) (4.51.0)\n",
            "Requirement already satisfied: kiwisolver>=1.0.1 in /usr/local/lib/python3.10/dist-packages (from matplotlib>=2.0.0->fbprophet) (1.4.5)\n",
            "Requirement already satisfied: packaging>=20.0 in /usr/local/lib/python3.10/dist-packages (from matplotlib>=2.0.0->fbprophet) (24.0)\n",
            "Requirement already satisfied: pillow>=6.2.0 in /usr/local/lib/python3.10/dist-packages (from matplotlib>=2.0.0->fbprophet) (9.4.0)\n",
            "Requirement already satisfied: pyparsing>=2.3.1 in /usr/local/lib/python3.10/dist-packages (from matplotlib>=2.0.0->fbprophet) (3.1.2)\n",
            "Requirement already satisfied: tzdata>=2022.1 in /usr/local/lib/python3.10/dist-packages (from pandas>=1.0.4->fbprophet) (2024.1)\n",
            "Requirement already satisfied: aiohttp<4.0,>=3.6 in /usr/local/lib/python3.10/dist-packages (from pystan>=2.14->fbprophet) (3.9.5)\n",
            "Requirement already satisfied: clikit<0.7,>=0.6 in /usr/local/lib/python3.10/dist-packages (from pystan>=2.14->fbprophet) (0.6.2)\n",
            "Requirement already satisfied: httpstan<4.13,>=4.12 in /usr/local/lib/python3.10/dist-packages (from pystan>=2.14->fbprophet) (4.12.0)\n",
            "Requirement already satisfied: pysimdjson<7,>=5.0.2 in /usr/local/lib/python3.10/dist-packages (from pystan>=2.14->fbprophet) (6.0.2)\n",
            "Requirement already satisfied: setuptools in /usr/local/lib/python3.10/dist-packages (from pystan>=2.14->fbprophet) (67.7.2)\n",
            "Requirement already satisfied: six>=1.5 in /usr/local/lib/python3.10/dist-packages (from python-dateutil>=2.8.0->fbprophet) (1.16.0)\n",
            "Requirement already satisfied: aiosignal>=1.1.2 in /usr/local/lib/python3.10/dist-packages (from aiohttp<4.0,>=3.6->pystan>=2.14->fbprophet) (1.3.1)\n",
            "Requirement already satisfied: attrs>=17.3.0 in /usr/local/lib/python3.10/dist-packages (from aiohttp<4.0,>=3.6->pystan>=2.14->fbprophet) (23.2.0)\n",
            "Requirement already satisfied: frozenlist>=1.1.1 in /usr/local/lib/python3.10/dist-packages (from aiohttp<4.0,>=3.6->pystan>=2.14->fbprophet) (1.4.1)\n",
            "Requirement already satisfied: multidict<7.0,>=4.5 in /usr/local/lib/python3.10/dist-packages (from aiohttp<4.0,>=3.6->pystan>=2.14->fbprophet) (6.0.5)\n",
            "Requirement already satisfied: yarl<2.0,>=1.0 in /usr/local/lib/python3.10/dist-packages (from aiohttp<4.0,>=3.6->pystan>=2.14->fbprophet) (1.9.4)\n",
            "Requirement already satisfied: async-timeout<5.0,>=4.0 in /usr/local/lib/python3.10/dist-packages (from aiohttp<4.0,>=3.6->pystan>=2.14->fbprophet) (4.0.3)\n",
            "Requirement already satisfied: crashtest<0.4.0,>=0.3.0 in /usr/local/lib/python3.10/dist-packages (from clikit<0.7,>=0.6->pystan>=2.14->fbprophet) (0.3.1)\n",
            "Requirement already satisfied: pastel<0.3.0,>=0.2.0 in /usr/local/lib/python3.10/dist-packages (from clikit<0.7,>=0.6->pystan>=2.14->fbprophet) (0.2.1)\n",
            "Requirement already satisfied: pylev<2.0,>=1.3 in /usr/local/lib/python3.10/dist-packages (from clikit<0.7,>=0.6->pystan>=2.14->fbprophet) (1.4.0)\n",
            "Requirement already satisfied: appdirs<2.0,>=1.4 in /usr/local/lib/python3.10/dist-packages (from httpstan<4.13,>=4.12->pystan>=2.14->fbprophet) (1.4.4)\n",
            "Requirement already satisfied: marshmallow<4.0,>=3.10 in /usr/local/lib/python3.10/dist-packages (from httpstan<4.13,>=4.12->pystan>=2.14->fbprophet) (3.21.2)\n",
            "Requirement already satisfied: webargs<9.0,>=8.0 in /usr/local/lib/python3.10/dist-packages (from httpstan<4.13,>=4.12->pystan>=2.14->fbprophet) (8.4.0)\n",
            "Requirement already satisfied: idna>=2.0 in /usr/local/lib/python3.10/dist-packages (from yarl<2.0,>=1.0->aiohttp<4.0,>=3.6->pystan>=2.14->fbprophet) (3.7)\n",
            "Building wheels for collected packages: fbprophet\n",
            "  \u001b[1;31merror\u001b[0m: \u001b[1msubprocess-exited-with-error\u001b[0m\n",
            "  \n",
            "  \u001b[31m×\u001b[0m \u001b[32mpython setup.py bdist_wheel\u001b[0m did not run successfully.\n",
            "  \u001b[31m│\u001b[0m exit code: \u001b[1;36m1\u001b[0m\n",
            "  \u001b[31m╰─>\u001b[0m See above for output.\n",
            "  \n",
            "  \u001b[1;35mnote\u001b[0m: This error originates from a subprocess, and is likely not a problem with pip.\n",
            "  Building wheel for fbprophet (setup.py) ... \u001b[?25lerror\n",
            "\u001b[31m  ERROR: Failed building wheel for fbprophet\u001b[0m\u001b[31m\n",
            "\u001b[0m\u001b[?25h  Running setup.py clean for fbprophet\n",
            "Failed to build fbprophet\n",
            "\u001b[31mERROR: Could not build wheels for fbprophet, which is required to install pyproject.toml-based projects\u001b[0m\u001b[31m\n",
            "\u001b[0m"
          ]
        }
      ]
    },
    {
      "cell_type": "code",
      "source": [],
      "metadata": {
        "id": "F9YWan_WK5ST"
      },
      "execution_count": null,
      "outputs": []
    },
    {
      "cell_type": "code",
      "source": [
        "# system library setup\n",
        "\n",
        "import io, os, sys, setuptools, tokenize\n"
      ],
      "metadata": {
        "colab": {
          "base_uri": "https://localhost:8080/",
          "height": 106
        },
        "id": "kRH1utBvIcrr",
        "outputId": "c42b46a8-bbc4-41d6-e858-bf65447c0904"
      },
      "execution_count": null,
      "outputs": [
        {
          "output_type": "error",
          "ename": "SyntaxError",
          "evalue": "invalid syntax (<ipython-input-20-1e9781c65769>, line 7)",
          "traceback": [
            "\u001b[0;36m  File \u001b[0;32m\"<ipython-input-20-1e9781c65769>\"\u001b[0;36m, line \u001b[0;32m7\u001b[0m\n\u001b[0;31m    pip install pyproject-toml\u001b[0m\n\u001b[0m        ^\u001b[0m\n\u001b[0;31mSyntaxError\u001b[0m\u001b[0;31m:\u001b[0m invalid syntax\n"
          ]
        }
      ]
    },
    {
      "cell_type": "code",
      "source": [
        "# pyprpject-toml\n",
        "\n",
        "pip install pyproject-toml"
      ],
      "metadata": {
        "colab": {
          "base_uri": "https://localhost:8080/",
          "height": 106
        },
        "id": "B1Gy4dMhK6Qj",
        "outputId": "4def1704-3e1d-4f18-dcb2-ca8a61d2477d"
      },
      "execution_count": null,
      "outputs": [
        {
          "output_type": "error",
          "ename": "SyntaxError",
          "evalue": "invalid syntax (<ipython-input-22-dfc5cd375f40>, line 3)",
          "traceback": [
            "\u001b[0;36m  File \u001b[0;32m\"<ipython-input-22-dfc5cd375f40>\"\u001b[0;36m, line \u001b[0;32m3\u001b[0m\n\u001b[0;31m    pip install pyproject-toml\u001b[0m\n\u001b[0m        ^\u001b[0m\n\u001b[0;31mSyntaxError\u001b[0m\u001b[0;31m:\u001b[0m invalid syntax\n"
          ]
        }
      ]
    },
    {
      "cell_type": "code",
      "source": [
        "import prophet"
      ],
      "metadata": {
        "id": "3vmylWt5LMXa"
      },
      "execution_count": null,
      "outputs": []
    },
    {
      "cell_type": "code",
      "source": [
        "# FbPrompt\n",
        "pip install fbprophet"
      ],
      "metadata": {
        "colab": {
          "base_uri": "https://localhost:8080/",
          "height": 106
        },
        "id": "-LntStWuK18q",
        "outputId": "5f8f2c3e-a562-4a6a-bf37-4dbaa9059a81"
      },
      "execution_count": null,
      "outputs": [
        {
          "output_type": "error",
          "ename": "SyntaxError",
          "evalue": "invalid syntax (<ipython-input-24-701ebe963657>, line 2)",
          "traceback": [
            "\u001b[0;36m  File \u001b[0;32m\"<ipython-input-24-701ebe963657>\"\u001b[0;36m, line \u001b[0;32m2\u001b[0m\n\u001b[0;31m    pip install fbprophet\u001b[0m\n\u001b[0m        ^\u001b[0m\n\u001b[0;31mSyntaxError\u001b[0m\u001b[0;31m:\u001b[0m invalid syntax\n"
          ]
        }
      ]
    },
    {
      "cell_type": "code",
      "source": [
        "# importing\n",
        "\n",
        "import pandas as pd\n",
        "import fbprophet\n",
        "import matplotlib.pyplot as plt"
      ],
      "metadata": {
        "colab": {
          "base_uri": "https://localhost:8080/",
          "height": 366
        },
        "id": "nxWrwS08Ec3x",
        "outputId": "3b80dcae-cb7f-471c-9923-ac79d03b1000"
      },
      "execution_count": null,
      "outputs": [
        {
          "output_type": "error",
          "ename": "ModuleNotFoundError",
          "evalue": "No module named 'fbprophet'",
          "traceback": [
            "\u001b[0;31m---------------------------------------------------------------------------\u001b[0m",
            "\u001b[0;31mModuleNotFoundError\u001b[0m                       Traceback (most recent call last)",
            "\u001b[0;32m<ipython-input-25-8e52c92c4488>\u001b[0m in \u001b[0;36m<cell line: 4>\u001b[0;34m()\u001b[0m\n\u001b[1;32m      2\u001b[0m \u001b[0;34m\u001b[0m\u001b[0m\n\u001b[1;32m      3\u001b[0m \u001b[0;32mimport\u001b[0m \u001b[0mpandas\u001b[0m \u001b[0;32mas\u001b[0m \u001b[0mpd\u001b[0m\u001b[0;34m\u001b[0m\u001b[0;34m\u001b[0m\u001b[0m\n\u001b[0;32m----> 4\u001b[0;31m \u001b[0;32mimport\u001b[0m \u001b[0mfbprophet\u001b[0m\u001b[0;34m\u001b[0m\u001b[0;34m\u001b[0m\u001b[0m\n\u001b[0m\u001b[1;32m      5\u001b[0m \u001b[0;32mimport\u001b[0m \u001b[0mmatplotlib\u001b[0m\u001b[0;34m.\u001b[0m\u001b[0mpyplot\u001b[0m \u001b[0;32mas\u001b[0m \u001b[0mplt\u001b[0m\u001b[0;34m\u001b[0m\u001b[0;34m\u001b[0m\u001b[0m\n",
            "\u001b[0;31mModuleNotFoundError\u001b[0m: No module named 'fbprophet'",
            "",
            "\u001b[0;31m---------------------------------------------------------------------------\u001b[0;32m\nNOTE: If your import is failing due to a missing package, you can\nmanually install dependencies using either !pip or !apt.\n\nTo view examples of installing some common dependencies, click the\n\"Open Examples\" button below.\n\u001b[0;31m---------------------------------------------------------------------------\u001b[0m\n"
          ],
          "errorDetails": {
            "actions": [
              {
                "action": "open_url",
                "actionText": "Open Examples",
                "url": "/notebooks/snippets/importing_libraries.ipynb"
              }
            ]
          }
        }
      ]
    },
    {
      "cell_type": "code",
      "source": [
        "pip install fbprophet"
      ],
      "metadata": {
        "colab": {
          "base_uri": "https://localhost:8080/"
        },
        "id": "idihRRkUMB2y",
        "outputId": "c6de1c56-2493-473f-fbed-0dd01a336313"
      },
      "execution_count": null,
      "outputs": [
        {
          "output_type": "stream",
          "name": "stdout",
          "text": [
            "Collecting fbprophet\n",
            "  Using cached fbprophet-0.7.1.tar.gz (64 kB)\n",
            "  Preparing metadata (setup.py) ... \u001b[?25l\u001b[?25hdone\n",
            "Requirement already satisfied: Cython>=0.22 in /usr/local/lib/python3.10/dist-packages (from fbprophet) (3.0.10)\n",
            "Collecting cmdstanpy==0.9.5 (from fbprophet)\n",
            "  Using cached cmdstanpy-0.9.5-py3-none-any.whl.metadata (2.9 kB)\n",
            "Requirement already satisfied: pystan>=2.14 in /usr/local/lib/python3.10/dist-packages (from fbprophet) (3.9.1)\n",
            "Requirement already satisfied: numpy>=1.15.4 in /usr/local/lib/python3.10/dist-packages (from fbprophet) (1.25.2)\n",
            "Requirement already satisfied: pandas>=1.0.4 in /usr/local/lib/python3.10/dist-packages (from fbprophet) (2.0.3)\n",
            "Requirement already satisfied: matplotlib>=2.0.0 in /usr/local/lib/python3.10/dist-packages (from fbprophet) (3.7.1)\n",
            "Collecting LunarCalendar>=0.0.9 (from fbprophet)\n",
            "  Using cached LunarCalendar-0.0.9-py2.py3-none-any.whl.metadata (6.3 kB)\n",
            "Collecting convertdate>=2.1.2 (from fbprophet)\n",
            "  Using cached convertdate-2.4.0-py3-none-any.whl.metadata (8.3 kB)\n",
            "Requirement already satisfied: holidays>=0.10.2 in /usr/local/lib/python3.10/dist-packages (from fbprophet) (0.48)\n",
            "Collecting setuptools-git>=1.2 (from fbprophet)\n",
            "  Using cached setuptools_git-1.2-py2.py3-none-any.whl.metadata (5.8 kB)\n",
            "Requirement already satisfied: python-dateutil>=2.8.0 in /usr/local/lib/python3.10/dist-packages (from fbprophet) (2.8.2)\n",
            "Requirement already satisfied: tqdm>=4.36.1 in /usr/local/lib/python3.10/dist-packages (from fbprophet) (4.66.4)\n",
            "Collecting pymeeus<=1,>=0.3.13 (from convertdate>=2.1.2->fbprophet)\n",
            "  Using cached PyMeeus-0.5.12-py3-none-any.whl\n",
            "Collecting ephem>=3.7.5.3 (from LunarCalendar>=0.0.9->fbprophet)\n",
            "  Using cached ephem-4.1.5-cp310-cp310-manylinux_2_17_x86_64.manylinux2014_x86_64.whl.metadata (6.0 kB)\n",
            "Requirement already satisfied: pytz in /usr/local/lib/python3.10/dist-packages (from LunarCalendar>=0.0.9->fbprophet) (2023.4)\n",
            "Requirement already satisfied: contourpy>=1.0.1 in /usr/local/lib/python3.10/dist-packages (from matplotlib>=2.0.0->fbprophet) (1.2.1)\n",
            "Requirement already satisfied: cycler>=0.10 in /usr/local/lib/python3.10/dist-packages (from matplotlib>=2.0.0->fbprophet) (0.12.1)\n",
            "Requirement already satisfied: fonttools>=4.22.0 in /usr/local/lib/python3.10/dist-packages (from matplotlib>=2.0.0->fbprophet) (4.51.0)\n",
            "Requirement already satisfied: kiwisolver>=1.0.1 in /usr/local/lib/python3.10/dist-packages (from matplotlib>=2.0.0->fbprophet) (1.4.5)\n",
            "Requirement already satisfied: packaging>=20.0 in /usr/local/lib/python3.10/dist-packages (from matplotlib>=2.0.0->fbprophet) (24.0)\n",
            "Requirement already satisfied: pillow>=6.2.0 in /usr/local/lib/python3.10/dist-packages (from matplotlib>=2.0.0->fbprophet) (9.4.0)\n",
            "Requirement already satisfied: pyparsing>=2.3.1 in /usr/local/lib/python3.10/dist-packages (from matplotlib>=2.0.0->fbprophet) (3.1.2)\n",
            "Requirement already satisfied: tzdata>=2022.1 in /usr/local/lib/python3.10/dist-packages (from pandas>=1.0.4->fbprophet) (2024.1)\n",
            "Requirement already satisfied: aiohttp<4.0,>=3.6 in /usr/local/lib/python3.10/dist-packages (from pystan>=2.14->fbprophet) (3.9.5)\n",
            "Requirement already satisfied: clikit<0.7,>=0.6 in /usr/local/lib/python3.10/dist-packages (from pystan>=2.14->fbprophet) (0.6.2)\n",
            "Requirement already satisfied: httpstan<4.13,>=4.12 in /usr/local/lib/python3.10/dist-packages (from pystan>=2.14->fbprophet) (4.12.0)\n",
            "Requirement already satisfied: pysimdjson<7,>=5.0.2 in /usr/local/lib/python3.10/dist-packages (from pystan>=2.14->fbprophet) (6.0.2)\n",
            "Requirement already satisfied: setuptools in /usr/local/lib/python3.10/dist-packages (from pystan>=2.14->fbprophet) (69.5.1)\n",
            "Requirement already satisfied: six>=1.5 in /usr/local/lib/python3.10/dist-packages (from python-dateutil>=2.8.0->fbprophet) (1.16.0)\n",
            "Requirement already satisfied: aiosignal>=1.1.2 in /usr/local/lib/python3.10/dist-packages (from aiohttp<4.0,>=3.6->pystan>=2.14->fbprophet) (1.3.1)\n",
            "Requirement already satisfied: attrs>=17.3.0 in /usr/local/lib/python3.10/dist-packages (from aiohttp<4.0,>=3.6->pystan>=2.14->fbprophet) (23.2.0)\n",
            "Requirement already satisfied: frozenlist>=1.1.1 in /usr/local/lib/python3.10/dist-packages (from aiohttp<4.0,>=3.6->pystan>=2.14->fbprophet) (1.4.1)\n",
            "Requirement already satisfied: multidict<7.0,>=4.5 in /usr/local/lib/python3.10/dist-packages (from aiohttp<4.0,>=3.6->pystan>=2.14->fbprophet) (6.0.5)\n",
            "Requirement already satisfied: yarl<2.0,>=1.0 in /usr/local/lib/python3.10/dist-packages (from aiohttp<4.0,>=3.6->pystan>=2.14->fbprophet) (1.9.4)\n",
            "Requirement already satisfied: async-timeout<5.0,>=4.0 in /usr/local/lib/python3.10/dist-packages (from aiohttp<4.0,>=3.6->pystan>=2.14->fbprophet) (4.0.3)\n",
            "Requirement already satisfied: crashtest<0.4.0,>=0.3.0 in /usr/local/lib/python3.10/dist-packages (from clikit<0.7,>=0.6->pystan>=2.14->fbprophet) (0.3.1)\n",
            "Requirement already satisfied: pastel<0.3.0,>=0.2.0 in /usr/local/lib/python3.10/dist-packages (from clikit<0.7,>=0.6->pystan>=2.14->fbprophet) (0.2.1)\n",
            "Requirement already satisfied: pylev<2.0,>=1.3 in /usr/local/lib/python3.10/dist-packages (from clikit<0.7,>=0.6->pystan>=2.14->fbprophet) (1.4.0)\n",
            "Requirement already satisfied: appdirs<2.0,>=1.4 in /usr/local/lib/python3.10/dist-packages (from httpstan<4.13,>=4.12->pystan>=2.14->fbprophet) (1.4.4)\n",
            "Requirement already satisfied: marshmallow<4.0,>=3.10 in /usr/local/lib/python3.10/dist-packages (from httpstan<4.13,>=4.12->pystan>=2.14->fbprophet) (3.21.2)\n",
            "Requirement already satisfied: webargs<9.0,>=8.0 in /usr/local/lib/python3.10/dist-packages (from httpstan<4.13,>=4.12->pystan>=2.14->fbprophet) (8.4.0)\n",
            "Requirement already satisfied: idna>=2.0 in /usr/local/lib/python3.10/dist-packages (from yarl<2.0,>=1.0->aiohttp<4.0,>=3.6->pystan>=2.14->fbprophet) (3.7)\n",
            "Using cached cmdstanpy-0.9.5-py3-none-any.whl (37 kB)\n",
            "Using cached convertdate-2.4.0-py3-none-any.whl (47 kB)\n",
            "Using cached LunarCalendar-0.0.9-py2.py3-none-any.whl (18 kB)\n",
            "Using cached setuptools_git-1.2-py2.py3-none-any.whl (10 kB)\n",
            "Using cached ephem-4.1.5-cp310-cp310-manylinux_2_17_x86_64.manylinux2014_x86_64.whl (1.8 MB)\n",
            "Building wheels for collected packages: fbprophet\n",
            "  \u001b[1;31merror\u001b[0m: \u001b[1msubprocess-exited-with-error\u001b[0m\n",
            "  \n",
            "  \u001b[31m×\u001b[0m \u001b[32mpython setup.py bdist_wheel\u001b[0m did not run successfully.\n",
            "  \u001b[31m│\u001b[0m exit code: \u001b[1;36m1\u001b[0m\n",
            "  \u001b[31m╰─>\u001b[0m See above for output.\n",
            "  \n",
            "  \u001b[1;35mnote\u001b[0m: This error originates from a subprocess, and is likely not a problem with pip.\n",
            "  Building wheel for fbprophet (setup.py) ... \u001b[?25lerror\n",
            "\u001b[31m  ERROR: Failed building wheel for fbprophet\u001b[0m\u001b[31m\n",
            "\u001b[0m\u001b[?25h  Running setup.py clean for fbprophet\n",
            "Failed to build fbprophet\n",
            "\u001b[31mERROR: Could not build wheels for fbprophet, which is required to install pyproject.toml-based projects\u001b[0m\u001b[31m\n",
            "\u001b[0m"
          ]
        }
      ]
    },
    {
      "cell_type": "code",
      "source": [
        "# fixing error  by importing nes, cache-dir modules in py\n",
        "\n",
        "pip install nes-py --no-cache-dir"
      ],
      "metadata": {
        "colab": {
          "base_uri": "https://localhost:8080/"
        },
        "id": "wCRnOTblMgjT",
        "outputId": "5ab82f17-fe71-4b03-d55e-152ecbf9aec8"
      },
      "execution_count": null,
      "outputs": [
        {
          "output_type": "stream",
          "name": "stdout",
          "text": [
            "Requirement already satisfied: nes-py in /usr/local/lib/python3.10/dist-packages (8.2.1)\n",
            "Requirement already satisfied: gym>=0.17.2 in /usr/local/lib/python3.10/dist-packages (from nes-py) (0.25.2)\n",
            "Requirement already satisfied: numpy>=1.18.5 in /usr/local/lib/python3.10/dist-packages (from nes-py) (1.25.2)\n",
            "Requirement already satisfied: pyglet<=1.5.21,>=1.4.0 in /usr/local/lib/python3.10/dist-packages (from nes-py) (1.5.21)\n",
            "Requirement already satisfied: tqdm>=4.48.2 in /usr/local/lib/python3.10/dist-packages (from nes-py) (4.66.4)\n",
            "Requirement already satisfied: cloudpickle>=1.2.0 in /usr/local/lib/python3.10/dist-packages (from gym>=0.17.2->nes-py) (2.2.1)\n",
            "Requirement already satisfied: gym-notices>=0.0.4 in /usr/local/lib/python3.10/dist-packages (from gym>=0.17.2->nes-py) (0.0.8)\n",
            "\u001b[33mWARNING: Running pip as the 'root' user can result in broken permissions and conflicting behaviour with the system package manager. It is recommended to use a virtual environment instead: https://pip.pypa.io/warnings/venv\u001b[0m\u001b[33m\n",
            "\u001b[0m"
          ]
        }
      ]
    },
    {
      "cell_type": "code",
      "source": [
        "\n",
        "\n",
        "pip install --upgrade pip setuptools wheel"
      ],
      "metadata": {
        "colab": {
          "base_uri": "https://localhost:8080/"
        },
        "id": "PKtPsIsnM5Vc",
        "outputId": "001b3566-648c-4c0b-8d08-cfbe17953d43"
      },
      "execution_count": null,
      "outputs": [
        {
          "output_type": "stream",
          "name": "stdout",
          "text": [
            "Requirement already satisfied: pip in /usr/local/lib/python3.10/dist-packages (24.0)\n",
            "Requirement already satisfied: setuptools in /usr/local/lib/python3.10/dist-packages (69.5.1)\n",
            "Requirement already satisfied: wheel in /usr/local/lib/python3.10/dist-packages (0.43.0)\n",
            "\u001b[33mWARNING: Running pip as the 'root' user can result in broken permissions and conflicting behaviour with the system package manager. It is recommended to use a virtual environment instead: https://pip.pypa.io/warnings/venv\u001b[0m\u001b[33m\n",
            "\u001b[0m"
          ]
        }
      ]
    },
    {
      "cell_type": "markdown",
      "source": [
        "CMake is a popular cross-platform build system that is commonly used to build and install software. When it comes to installing Python using CMake, it typically involves specifying the Python interpreter and any necessary dependencies in the CMakeLists.txt file of the project."
      ],
      "metadata": {
        "id": "z2zi8br_OSIR"
      }
    },
    {
      "cell_type": "code",
      "source": [
        "pip install Cmake"
      ],
      "metadata": {
        "colab": {
          "base_uri": "https://localhost:8080/"
        },
        "id": "M6CVJf4IOXH7",
        "outputId": "16a8080e-c3c5-4aa7-ee33-a7e3a41235a7"
      },
      "execution_count": null,
      "outputs": [
        {
          "output_type": "stream",
          "name": "stdout",
          "text": [
            "Requirement already satisfied: Cmake in /usr/local/lib/python3.10/dist-packages (3.27.9)\n",
            "\u001b[33mWARNING: Running pip as the 'root' user can result in broken permissions and conflicting behaviour with the system package manager. It is recommended to use a virtual environment instead: https://pip.pypa.io/warnings/venv\u001b[0m\u001b[33m\n",
            "\u001b[0m"
          ]
        }
      ]
    },
    {
      "cell_type": "code",
      "source": [
        "### pip install pystan\n",
        "### conda install -c conda-forge fbprophet\n",
        "import pandas as pd\n",
        "import fbprophet\n",
        "import matplotlib.pyplot as plt\n",
        "%matplotlib inline"
      ],
      "metadata": {
        "colab": {
          "base_uri": "https://localhost:8080/",
          "height": 383
        },
        "id": "wM1Lpoa6L_lC",
        "outputId": "4f500c08-c2df-4014-9b31-3ca5f2f50505"
      },
      "execution_count": null,
      "outputs": [
        {
          "output_type": "error",
          "ename": "ModuleNotFoundError",
          "evalue": "No module named 'fbprophet'",
          "traceback": [
            "\u001b[0;31m---------------------------------------------------------------------------\u001b[0m",
            "\u001b[0;31mModuleNotFoundError\u001b[0m                       Traceback (most recent call last)",
            "\u001b[0;32m<ipython-input-29-9de9718d5156>\u001b[0m in \u001b[0;36m<cell line: 4>\u001b[0;34m()\u001b[0m\n\u001b[1;32m      2\u001b[0m \u001b[0;31m### conda install -c conda-forge fbprophet\u001b[0m\u001b[0;34m\u001b[0m\u001b[0;34m\u001b[0m\u001b[0m\n\u001b[1;32m      3\u001b[0m \u001b[0;32mimport\u001b[0m \u001b[0mpandas\u001b[0m \u001b[0;32mas\u001b[0m \u001b[0mpd\u001b[0m\u001b[0;34m\u001b[0m\u001b[0;34m\u001b[0m\u001b[0m\n\u001b[0;32m----> 4\u001b[0;31m \u001b[0;32mimport\u001b[0m \u001b[0mfbprophet\u001b[0m\u001b[0;34m\u001b[0m\u001b[0;34m\u001b[0m\u001b[0m\n\u001b[0m\u001b[1;32m      5\u001b[0m \u001b[0;32mimport\u001b[0m \u001b[0mmatplotlib\u001b[0m\u001b[0;34m.\u001b[0m\u001b[0mpyplot\u001b[0m \u001b[0;32mas\u001b[0m \u001b[0mplt\u001b[0m\u001b[0;34m\u001b[0m\u001b[0;34m\u001b[0m\u001b[0m\n\u001b[1;32m      6\u001b[0m \u001b[0mget_ipython\u001b[0m\u001b[0;34m(\u001b[0m\u001b[0;34m)\u001b[0m\u001b[0;34m.\u001b[0m\u001b[0mrun_line_magic\u001b[0m\u001b[0;34m(\u001b[0m\u001b[0;34m'matplotlib'\u001b[0m\u001b[0;34m,\u001b[0m \u001b[0;34m'inline'\u001b[0m\u001b[0;34m)\u001b[0m\u001b[0;34m\u001b[0m\u001b[0;34m\u001b[0m\u001b[0m\n",
            "\u001b[0;31mModuleNotFoundError\u001b[0m: No module named 'fbprophet'",
            "",
            "\u001b[0;31m---------------------------------------------------------------------------\u001b[0;32m\nNOTE: If your import is failing due to a missing package, you can\nmanually install dependencies using either !pip or !apt.\n\nTo view examples of installing some common dependencies, click the\n\"Open Examples\" button below.\n\u001b[0;31m---------------------------------------------------------------------------\u001b[0m\n"
          ],
          "errorDetails": {
            "actions": [
              {
                "action": "open_url",
                "actionText": "Open Examples",
                "url": "/notebooks/snippets/importing_libraries.ipynb"
              }
            ]
          }
        }
      ]
    }
  ]
}